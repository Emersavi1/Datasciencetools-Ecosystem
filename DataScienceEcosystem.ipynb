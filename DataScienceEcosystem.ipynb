{
 "cells": [
  {
   "cell_type": "markdown",
   "id": "006e1f99-c438-41a9-b12d-7de91bb4ca21",
   "metadata": {
    "tags": []
   },
   "source": [
    "# Data Science Tools and Ecosystem\n",
    "En este cuaderno, se resumen las Herramientas y el Ecosistema de Ciencia de Datos."
   ]
  },
  {
   "cell_type": "markdown",
   "id": "022c525b-9def-4dce-bfc0-26311fc48627",
   "metadata": {},
   "source": [
    "**OBJETIVOS**\n",
    "- Conocer algunos lenguajes populares usados por Cientificos de Datos\n",
    "- Conocer las bibliotecas más usadas por los Científicos de Datos\n",
    "- Crear una tabla con algunas herramientas de entorno de desarrollo de código abierto utilizadas en la ciencia de datos.\n"
   ]
  },
  {
   "cell_type": "markdown",
   "id": "82610b97-15d6-4747-a81d-3075c250d4da",
   "metadata": {},
   "source": [
    "## Algunos de los lenguajes populares que usan los Científicos de Datos son:\n",
    "1. Python  \n",
    "2. Julia   \n",
    "3. R    \n",
    "4. SQL  \n"
   ]
  },
  {
   "cell_type": "markdown",
   "id": "1a1b068f-acfe-4b6f-9e6b-96447a787410",
   "metadata": {},
   "source": [
    "## Algunas de las bibliotecas comúnmente utilizadas por los Científicos de Datos incluyen:\n",
    "1. Pandas\n",
    "2. Numpy\n",
    "3. Matplotlib\n",
    "4. Seaborn"
   ]
  },
  {
   "cell_type": "markdown",
   "id": "080591e4-dc80-4c97-94bf-c72d54010fa8",
   "metadata": {},
   "source": [
    "## Data Science Tools\n",
    "\n",
    "|Data Science Tools|\n",
    "|--------------|\n",
    "| Jupyter Notebook| \n",
    "| RStudio     | \n",
    "| VS Code     | \n",
    "\n"
   ]
  },
  {
   "cell_type": "markdown",
   "id": "4392f1aa-9e57-41d4-afce-a6e70b3d5fb4",
   "metadata": {},
   "source": [
    "### A continuación se presentan algunos ejemplos de evaluación de expresiones aritméticas en Python"
   ]
  },
  {
   "cell_type": "code",
   "execution_count": 3,
   "id": "3c7fa6a7-ebcd-442b-b15e-482cde815b5b",
   "metadata": {},
   "outputs": [
    {
     "data": {
      "text/plain": [
       "17"
      ]
     },
     "execution_count": 3,
     "metadata": {},
     "output_type": "execute_result"
    }
   ],
   "source": [
    "# Esta es una expresión aritmética simple para multiplicar y luego sumar enteros\n",
    "(3*4)+5"
   ]
  },
  {
   "cell_type": "code",
   "execution_count": 4,
   "id": "c8795575-c1fb-4bca-aee9-f84b60afad55",
   "metadata": {},
   "outputs": [
    {
     "data": {
      "text/plain": [
       "3.3333333333333335"
      ]
     },
     "execution_count": 4,
     "metadata": {},
     "output_type": "execute_result"
    }
   ],
   "source": [
    "#Esto convertirá 200 minutos en horas dividiendo por 60\n",
    "200/60"
   ]
  },
  {
   "cell_type": "markdown",
   "id": "f081c4dc-c760-47bd-9edb-16e20ae7dcc0",
   "metadata": {},
   "source": [
    "## Author\n",
    "Emerson Rafael Salguedo Vides"
   ]
  },
  {
   "cell_type": "code",
   "execution_count": null,
   "id": "5e88a09a-2949-4fc4-bffc-0127a8fc72be",
   "metadata": {},
   "outputs": [],
   "source": []
  }
 ],
 "metadata": {
  "kernelspec": {
   "display_name": "Python 3 (ipykernel)",
   "language": "python",
   "name": "python3"
  },
  "language_info": {
   "codemirror_mode": {
    "name": "ipython",
    "version": 3
   },
   "file_extension": ".py",
   "mimetype": "text/x-python",
   "name": "python",
   "nbconvert_exporter": "python",
   "pygments_lexer": "ipython3",
   "version": "3.10.9"
  }
 },
 "nbformat": 4,
 "nbformat_minor": 5
}
